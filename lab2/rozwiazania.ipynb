{
 "cells": [
  {
   "cell_type": "markdown",
   "metadata": {},
   "source": [
    "# Zadanie 1"
   ]
  },
  {
   "cell_type": "code",
   "execution_count": 3,
   "metadata": {},
   "outputs": [
    {
     "name": "stdout",
     "output_type": "stream",
     "text": [
      "dupa\n"
     ]
    }
   ],
   "source": [
    "print(\"dupa\")"
   ]
  },
  {
   "cell_type": "markdown",
   "metadata": {},
   "source": [
    "# Zadanie 2"
   ]
  },
  {
   "cell_type": "code",
   "execution_count": 6,
   "metadata": {},
   "outputs": [
    {
     "name": "stdout",
     "output_type": "stream",
     "text": [
      "  _____\n",
      "| dupa? |\n",
      "  =====\n",
      "           \\\n",
      "            \\\n",
      "             \\\n",
      "              \\\n",
      "                                 .       .\n",
      "                                / `.   .' \\\n",
      "                        .---.  <    > <    >  .---.\n",
      "                        |    \\  \\ - ~ ~ - /  /    |\n",
      "            _____        ~-..-~             ~-..-~\n",
      "           |     |   \\~~~\\.'                    `./~~~/\n",
      "          ---------   \\__/                        \\__/\n",
      "         .'  O    \\     /               /       \\  \"\n",
      "        (_____,    `._.'               |         }  \\/~~~/\n",
      "         `----.          /       }     |        /    \\__/\n",
      "               `-.      |       /      |       /      `. ,~~|\n",
      "                   ~-.__|      /_ - ~ ^|      /- _      `..-'   f:  f:\n",
      "                        |     /        |     /     ~-.     `-. _|| _||_\n",
      "                        |_____|        |_____|         ~ - . _ _ _ _ __>\n"
     ]
    }
   ],
   "source": [
    "import cowsay\n",
    "cowsay.stegosaurus(\"dupa?\")"
   ]
  },
  {
   "cell_type": "markdown",
   "metadata": {},
   "source": [
    "# Zadanie 3"
   ]
  },
  {
   "cell_type": "code",
   "execution_count": 15,
   "metadata": {},
   "outputs": [],
   "source": [
    "import math\n",
    "\n",
    "def function(x):\n",
    "    return math.sin(x)\n",
    "\n",
    "with open(\"plik\", \"r\") as file:\n",
    "    for line in file:\n",
    "        line = line.split()\n",
    "        with open(\"wynik\", \"w\") as file:\n",
    "            for x in line:\n",
    "                file.write(f\"{x} {function(float(x))}\\n\")"
   ]
  },
  {
   "cell_type": "markdown",
   "metadata": {},
   "source": [
    "# Zadanie 4"
   ]
  },
  {
   "cell_type": "code",
   "execution_count": 18,
   "metadata": {},
   "outputs": [
    {
     "name": "stdout",
     "output_type": "stream",
     "text": [
      "Added one more apple\n",
      "9\n"
     ]
    }
   ],
   "source": [
    "class Product:\n",
    "    def __init__(self, name, price, quantity):\n",
    "        self.name = name\n",
    "        self.price = price\n",
    "        self.quantity = quantity\n",
    "\n",
    "\n",
    "class Cart:\n",
    "    def __init__(self):\n",
    "        self.products = [Product(\"apple\", 1, 2), Product(\"orange\", 2, 3)]\n",
    "\n",
    "    def add_product(self, product_name):\n",
    "        for product in self.products:\n",
    "            if product.name == product_name:\n",
    "                product.quantity += 1\n",
    "                print(f\"Added one more {product_name}\")\n",
    "                return\n",
    "            \n",
    "    def remove_product(self, product):\n",
    "        print(f\"Removed {product.name}\")\n",
    "        self.products.remove(product)\n",
    "\n",
    "    def get_total_price(self):\n",
    "        return sum([product.price * product.quantity for product in self.products])\n",
    "    \n",
    "\n",
    "cart = Cart()\n",
    "cart.add_product(\"apple\")\n",
    "cart.add_product(\"apple\")\n",
    "\n",
    "print(cart.get_total_price())\n"
   ]
  },
  {
   "cell_type": "markdown",
   "metadata": {},
   "source": [
    "# Zadanie 5"
   ]
  },
  {
   "cell_type": "code",
   "execution_count": 24,
   "metadata": {},
   "outputs": [
    {
     "name": "stdout",
     "output_type": "stream",
     "text": [
      "Cart contains 2 products:\n",
      "Product: apple Price: 1\n",
      "Product: orange Price: 2\n",
      "\n",
      "5\n",
      "Product: apple Price: 1\n",
      "Product: orange Price: 2\n"
     ]
    }
   ],
   "source": [
    "class Product:\n",
    "    def __init__(self, name, price, quantity):\n",
    "        self.name = name\n",
    "        self.price = price\n",
    "        self.quantity = quantity\n",
    "\n",
    "    def __str__(self):\n",
    "        return f\"Product: {self.name} Price: {self.price}\"\n",
    "\n",
    "class Cart:\n",
    "    def __init__(self):\n",
    "        self.products = [Product(\"apple\", 1, 2), Product(\"orange\", 2, 3)]\n",
    "\n",
    "    def add_product(self, product_name):\n",
    "        for product in self.products:\n",
    "            if product.name == product_name:\n",
    "                product.quantity += 1\n",
    "                print(f\"Added one more {product_name}\")\n",
    "                return\n",
    "            \n",
    "    def remove_product(self, product):\n",
    "        print(f\"Removed {product.name}\")\n",
    "        self.products.remove(product)\n",
    "\n",
    "    def get_total_price(self):\n",
    "        return sum([product.price * product.quantity for product in self.products])\n",
    "    \n",
    "    def __str__(self):\n",
    "        s = f\"Cart contains {len(self.products)} products:\\n\"\n",
    "        for product in self.products:\n",
    "            s += str(product) + \"\\n\"\n",
    "        return s\n",
    "    \n",
    "    def __len__(self):\n",
    "        return sum([product.quantity for product in self.products])\n",
    "    \n",
    "    def __iter__(self):\n",
    "        return iter(self.products)\n",
    "    \n",
    "    def __next__(self):\n",
    "        return next(self.products)\n",
    "    \n",
    "\n",
    "cart = Cart()\n",
    "print(cart)\n",
    "print(len(cart))\n",
    "\n",
    "for product in cart:\n",
    "    print(product)\n",
    "\n",
    "\n"
   ]
  }
 ],
 "metadata": {
  "kernelspec": {
   "display_name": "Python 3",
   "language": "python",
   "name": "python3"
  },
  "language_info": {
   "codemirror_mode": {
    "name": "ipython",
    "version": 3
   },
   "file_extension": ".py",
   "mimetype": "text/x-python",
   "name": "python",
   "nbconvert_exporter": "python",
   "pygments_lexer": "ipython3",
   "version": "3.11.8"
  }
 },
 "nbformat": 4,
 "nbformat_minor": 4
}
